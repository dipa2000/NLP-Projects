{
 "cells": [
  {
   "cell_type": "code",
   "execution_count": 2,
   "metadata": {},
   "outputs": [],
   "source": [
    "import pandas as pd"
   ]
  },
  {
   "cell_type": "code",
   "execution_count": 26,
   "metadata": {},
   "outputs": [],
   "source": [
    "import numpy as np"
   ]
  },
  {
   "cell_type": "code",
   "execution_count": 27,
   "metadata": {},
   "outputs": [],
   "source": [
    "import math"
   ]
  },
  {
   "cell_type": "code",
   "execution_count": 1,
   "metadata": {},
   "outputs": [
    {
     "name": "stdout",
     "output_type": "stream",
     "text": [
      "Index(['User_ID', 'Description', 'Browser_Used', 'Device_Used', 'Is_Response'], dtype='object')\n",
      "(38932, 5)\n",
      "38932\n",
      "2\n"
     ]
    }
   ],
   "source": [
    "import matplotlib.pyplot as plt\n",
    "import seaborn as sn\n",
    "import pandas as pd\n",
    "df = pd.read_csv('hotel-reviews.csv')\n",
    "print(df.columns)\n",
    "print(df.shape)\n",
    "\n",
    "df = df.dropna()\n",
    "print(df.User_ID.nunique())\n",
    "print(df.Is_Response.nunique())"
   ]
  },
  {
   "cell_type": "code",
   "execution_count": 2,
   "metadata": {},
   "outputs": [
    {
     "data": {
      "text/plain": [
       "Is_Response\n",
       "happy        26521\n",
       "not happy    12411\n",
       "Name: Is_Response, dtype: int64"
      ]
     },
     "execution_count": 2,
     "metadata": {},
     "output_type": "execute_result"
    }
   ],
   "source": [
    "df.groupby(\"Is_Response\")['Is_Response'].agg('count')"
   ]
  },
  {
   "cell_type": "code",
   "execution_count": 3,
   "metadata": {},
   "outputs": [
    {
     "data": {
      "image/png": "[encoded data removed]",
      "text/plain": [
       "<Figure size 432x288 with 1 Axes>"
      ]
     },
     "metadata": {
      "needs_background": "light"
     },
     "output_type": "display_data"
    }
   ],
   "source": [
    "import numpy as np\n",
    "zero = len(df[df.Is_Response =='not happy'])\n",
    "one = len(df[df.Is_Response =='happy'])\n",
    "\n",
    "li_response = [zero,one]\n",
    "label_response = ['Not Happy','Happy']\n",
    "\n",
    "index_response = np.arange(len(li_response))\n",
    "sn.barplot(label_response,li_response)\n",
    "plt.show()\n"
   ]
  },
  {
   "cell_type": "code",
   "execution_count": 4,
   "metadata": {},
   "outputs": [
    {
     "name": "stdout",
     "output_type": "stream",
     "text": [
      "Desktop    15026\n",
      "Mobile     14976\n",
      "Tablet      8930\n",
      "Name: Device_Used, dtype: int64\n"
     ]
    },
    {
     "data": {
      "image/png": "[encoded data removed]",
      "text/plain": [
       "<Figure size 432x288 with 1 Axes>"
      ]
     },
     "metadata": {
      "needs_background": "light"
     },
     "output_type": "display_data"
    }
   ],
   "source": [
    "df['Browser_Used'].shape\n",
    "df['Browser_Used'].value_counts()\n",
    "\n",
    "\n",
    "device = df.Device_Used\n",
    "desktop = len(device[device=='Desktop'])\n",
    "mobile = len(device[device=='Mobile'])\n",
    "tablet = len(device[device=='Tablet'])\n",
    "print(device.value_counts())\n",
    "label_device = ['Desktop','Mobile','Tablet']\n",
    "li_device = [desktop,mobile,tablet]\n",
    "\n",
    "index_device = np.arange(len(label_device))\n",
    "\n",
    "sn.barplot(label_device,li_device)\n",
    "plt.show()"
   ]
  },
  {
   "cell_type": "code",
   "execution_count": 5,
   "metadata": {},
   "outputs": [
    {
     "data": {
      "text/html": [
       "<div>\n",
       "<style scoped>\n",
       "    .dataframe tbody tr th:only-of-type {\n",
       "        vertical-align: middle;\n",
       "    }\n",
       "\n",
       "    .dataframe tbody tr th {\n",
       "        vertical-align: top;\n",
       "    }\n",
       "\n",
       "    .dataframe thead th {\n",
       "        text-align: right;\n",
       "    }\n",
       "</style>\n",
       "<table border=\"1\" class=\"dataframe\">\n",
       "  <thead>\n",
       "    <tr style=\"text-align: right;\">\n",
       "      <th></th>\n",
       "      <th>Description</th>\n",
       "      <th>Is_Response</th>\n",
       "    </tr>\n",
       "  </thead>\n",
       "  <tbody>\n",
       "    <tr>\n",
       "      <th>0</th>\n",
       "      <td>The room was kind of clean but had a VERY stro...</td>\n",
       "      <td>not happy</td>\n",
       "    </tr>\n",
       "    <tr>\n",
       "      <th>1</th>\n",
       "      <td>I stayed at the Crown Plaza April -- - April -...</td>\n",
       "      <td>not happy</td>\n",
       "    </tr>\n",
       "    <tr>\n",
       "      <th>2</th>\n",
       "      <td>I booked this hotel through Hotwire at the low...</td>\n",
       "      <td>not happy</td>\n",
       "    </tr>\n",
       "    <tr>\n",
       "      <th>3</th>\n",
       "      <td>Stayed here with husband and sons on the way t...</td>\n",
       "      <td>happy</td>\n",
       "    </tr>\n",
       "    <tr>\n",
       "      <th>4</th>\n",
       "      <td>My girlfriends and I stayed here to celebrate ...</td>\n",
       "      <td>not happy</td>\n",
       "    </tr>\n",
       "    <tr>\n",
       "      <th>...</th>\n",
       "      <td>...</td>\n",
       "      <td>...</td>\n",
       "    </tr>\n",
       "    <tr>\n",
       "      <th>38927</th>\n",
       "      <td>We arrived late at night and walked in to a ch...</td>\n",
       "      <td>happy</td>\n",
       "    </tr>\n",
       "    <tr>\n",
       "      <th>38928</th>\n",
       "      <td>The only positive impression is location and p...</td>\n",
       "      <td>not happy</td>\n",
       "    </tr>\n",
       "    <tr>\n",
       "      <th>38929</th>\n",
       "      <td>Traveling with friends for shopping and a show...</td>\n",
       "      <td>not happy</td>\n",
       "    </tr>\n",
       "    <tr>\n",
       "      <th>38930</th>\n",
       "      <td>The experience was just ok. We paid extra for ...</td>\n",
       "      <td>not happy</td>\n",
       "    </tr>\n",
       "    <tr>\n",
       "      <th>38931</th>\n",
       "      <td>The Westin is a wonderfully restored grande da...</td>\n",
       "      <td>happy</td>\n",
       "    </tr>\n",
       "  </tbody>\n",
       "</table>\n",
       "<p>38932 rows × 2 columns</p>\n",
       "</div>"
      ],
      "text/plain": [
       "                                             Description Is_Response\n",
       "0      The room was kind of clean but had a VERY stro...   not happy\n",
       "1      I stayed at the Crown Plaza April -- - April -...   not happy\n",
       "2      I booked this hotel through Hotwire at the low...   not happy\n",
       "3      Stayed here with husband and sons on the way t...       happy\n",
       "4      My girlfriends and I stayed here to celebrate ...   not happy\n",
       "...                                                  ...         ...\n",
       "38927  We arrived late at night and walked in to a ch...       happy\n",
       "38928  The only positive impression is location and p...   not happy\n",
       "38929  Traveling with friends for shopping and a show...   not happy\n",
       "38930  The experience was just ok. We paid extra for ...   not happy\n",
       "38931  The Westin is a wonderfully restored grande da...       happy\n",
       "\n",
       "[38932 rows x 2 columns]"
      ]
     },
     "execution_count": 5,
     "metadata": {},
     "output_type": "execute_result"
    }
   ],
   "source": [
    "reviewdata=df.drop(columns=['User_ID','Browser_Used','Device_Used'], inplace=True)\n",
    "df"
   ]
  },
  {
   "cell_type": "code",
   "execution_count": 6,
   "metadata": {},
   "outputs": [],
   "source": [
    "import re\n",
    "import string\n",
    "\n",
    "def text_clean_1(text):\n",
    "    text=text.lower()\n",
    "    text=re.sub('\\[.*?\\]', '',text)\n",
    "    text=re.sub('[%s]'% re.escape(string.punctuation), '',text)\n",
    "    text=re.sub('\\w*d\\w','', text)\n",
    "    return text\n",
    "cleaned= lambda x: text_clean_1(x)"
   ]
  },
  {
   "cell_type": "code",
   "execution_count": 7,
   "metadata": {},
   "outputs": [
    {
     "data": {
      "text/html": [
       "<div>\n",
       "<style scoped>\n",
       "    .dataframe tbody tr th:only-of-type {\n",
       "        vertical-align: middle;\n",
       "    }\n",
       "\n",
       "    .dataframe tbody tr th {\n",
       "        vertical-align: top;\n",
       "    }\n",
       "\n",
       "    .dataframe thead th {\n",
       "        text-align: right;\n",
       "    }\n",
       "</style>\n",
       "<table border=\"1\" class=\"dataframe\">\n",
       "  <thead>\n",
       "    <tr style=\"text-align: right;\">\n",
       "      <th></th>\n",
       "      <th>Description</th>\n",
       "      <th>Is_Response</th>\n",
       "      <th>cleaned_description</th>\n",
       "    </tr>\n",
       "  </thead>\n",
       "  <tbody>\n",
       "    <tr>\n",
       "      <th>0</th>\n",
       "      <td>The room was kind of clean but had a VERY stro...</td>\n",
       "      <td>not happy</td>\n",
       "      <td>the room was kind of clean but had a very stro...</td>\n",
       "    </tr>\n",
       "    <tr>\n",
       "      <th>1</th>\n",
       "      <td>I stayed at the Crown Plaza April -- - April -...</td>\n",
       "      <td>not happy</td>\n",
       "      <td>i stayed at the crown plaza april   april   th...</td>\n",
       "    </tr>\n",
       "    <tr>\n",
       "      <th>2</th>\n",
       "      <td>I booked this hotel through Hotwire at the low...</td>\n",
       "      <td>not happy</td>\n",
       "      <td>i booked this hotel through hotwire at the low...</td>\n",
       "    </tr>\n",
       "    <tr>\n",
       "      <th>3</th>\n",
       "      <td>Stayed here with husband and sons on the way t...</td>\n",
       "      <td>happy</td>\n",
       "      <td>stayed here with husband and sons on the way t...</td>\n",
       "    </tr>\n",
       "    <tr>\n",
       "      <th>4</th>\n",
       "      <td>My girlfriends and I stayed here to celebrate ...</td>\n",
       "      <td>not happy</td>\n",
       "      <td>my  and i stayed here to celebrate our th ys w...</td>\n",
       "    </tr>\n",
       "    <tr>\n",
       "      <th>5</th>\n",
       "      <td>We had - rooms. One was very nice and clearly ...</td>\n",
       "      <td>happy</td>\n",
       "      <td>we had  rooms one was very nice and clearly ha...</td>\n",
       "    </tr>\n",
       "    <tr>\n",
       "      <th>6</th>\n",
       "      <td>My husband and I have stayed in this hotel a f...</td>\n",
       "      <td>not happy</td>\n",
       "      <td>my husband and i have stayed in this hotel a f...</td>\n",
       "    </tr>\n",
       "    <tr>\n",
       "      <th>7</th>\n",
       "      <td>My wife &amp; I stayed in this glorious city a whi...</td>\n",
       "      <td>happy</td>\n",
       "      <td>my wife  i stayed in this glorious city a whil...</td>\n",
       "    </tr>\n",
       "    <tr>\n",
       "      <th>8</th>\n",
       "      <td>My boyfriend and I stayed at the Fairmont on a...</td>\n",
       "      <td>happy</td>\n",
       "      <td>my boyfriend and i stayed at the fairmont on a...</td>\n",
       "    </tr>\n",
       "    <tr>\n",
       "      <th>9</th>\n",
       "      <td>Wonderful staff, great location, but it was de...</td>\n",
       "      <td>not happy</td>\n",
       "      <td>rful staff great location but it was finately ...</td>\n",
       "    </tr>\n",
       "  </tbody>\n",
       "</table>\n",
       "</div>"
      ],
      "text/plain": [
       "                                         Description Is_Response  \\\n",
       "0  The room was kind of clean but had a VERY stro...   not happy   \n",
       "1  I stayed at the Crown Plaza April -- - April -...   not happy   \n",
       "2  I booked this hotel through Hotwire at the low...   not happy   \n",
       "3  Stayed here with husband and sons on the way t...       happy   \n",
       "4  My girlfriends and I stayed here to celebrate ...   not happy   \n",
       "5  We had - rooms. One was very nice and clearly ...       happy   \n",
       "6  My husband and I have stayed in this hotel a f...   not happy   \n",
       "7  My wife & I stayed in this glorious city a whi...       happy   \n",
       "8  My boyfriend and I stayed at the Fairmont on a...       happy   \n",
       "9  Wonderful staff, great location, but it was de...   not happy   \n",
       "\n",
       "                                 cleaned_description  \n",
       "0  the room was kind of clean but had a very stro...  \n",
       "1  i stayed at the crown plaza april   april   th...  \n",
       "2  i booked this hotel through hotwire at the low...  \n",
       "3  stayed here with husband and sons on the way t...  \n",
       "4  my  and i stayed here to celebrate our th ys w...  \n",
       "5  we had  rooms one was very nice and clearly ha...  \n",
       "6  my husband and i have stayed in this hotel a f...  \n",
       "7  my wife  i stayed in this glorious city a whil...  \n",
       "8  my boyfriend and i stayed at the fairmont on a...  \n",
       "9  rful staff great location but it was finately ...  "
      ]
     },
     "execution_count": 7,
     "metadata": {},
     "output_type": "execute_result"
    }
   ],
   "source": [
    "df['cleaned_description']=pd.DataFrame(df.Description.apply(cleaned))\n",
    "df.head(10)"
   ]
  },
  {
   "cell_type": "code",
   "execution_count": 8,
   "metadata": {},
   "outputs": [],
   "source": [
    "def text_clean_2(text):\n",
    "    text=re.sub('[''\"\"\"]','',text)\n",
    "    text=re.sub('\\n','', text)\n",
    "    return text\n",
    "cleaned2= lambda x: text_clean_2(x)"
   ]
  },
  {
   "cell_type": "code",
   "execution_count": 9,
   "metadata": {},
   "outputs": [],
   "source": [
    "df['cleaned_description_new']=pd.DataFrame(df['cleaned_description'].apply(cleaned2))"
   ]
  },
  {
   "cell_type": "code",
   "execution_count": 10,
   "metadata": {},
   "outputs": [
    {
     "data": {
      "text/html": [
       "<div>\n",
       "<style scoped>\n",
       "    .dataframe tbody tr th:only-of-type {\n",
       "        vertical-align: middle;\n",
       "    }\n",
       "\n",
       "    .dataframe tbody tr th {\n",
       "        vertical-align: top;\n",
       "    }\n",
       "\n",
       "    .dataframe thead th {\n",
       "        text-align: right;\n",
       "    }\n",
       "</style>\n",
       "<table border=\"1\" class=\"dataframe\">\n",
       "  <thead>\n",
       "    <tr style=\"text-align: right;\">\n",
       "      <th></th>\n",
       "      <th>Description</th>\n",
       "      <th>Is_Response</th>\n",
       "      <th>cleaned_description</th>\n",
       "      <th>cleaned_description_new</th>\n",
       "    </tr>\n",
       "  </thead>\n",
       "  <tbody>\n",
       "    <tr>\n",
       "      <th>0</th>\n",
       "      <td>The room was kind of clean but had a VERY stro...</td>\n",
       "      <td>not happy</td>\n",
       "      <td>the room was kind of clean but had a very stro...</td>\n",
       "      <td>the room was kind of clean but had a very stro...</td>\n",
       "    </tr>\n",
       "    <tr>\n",
       "      <th>1</th>\n",
       "      <td>I stayed at the Crown Plaza April -- - April -...</td>\n",
       "      <td>not happy</td>\n",
       "      <td>i stayed at the crown plaza april   april   th...</td>\n",
       "      <td>i stayed at the crown plaza april   april   th...</td>\n",
       "    </tr>\n",
       "    <tr>\n",
       "      <th>2</th>\n",
       "      <td>I booked this hotel through Hotwire at the low...</td>\n",
       "      <td>not happy</td>\n",
       "      <td>i booked this hotel through hotwire at the low...</td>\n",
       "      <td>i booked this hotel through hotwire at the low...</td>\n",
       "    </tr>\n",
       "    <tr>\n",
       "      <th>3</th>\n",
       "      <td>Stayed here with husband and sons on the way t...</td>\n",
       "      <td>happy</td>\n",
       "      <td>stayed here with husband and sons on the way t...</td>\n",
       "      <td>stayed here with husband and sons on the way t...</td>\n",
       "    </tr>\n",
       "    <tr>\n",
       "      <th>4</th>\n",
       "      <td>My girlfriends and I stayed here to celebrate ...</td>\n",
       "      <td>not happy</td>\n",
       "      <td>my  and i stayed here to celebrate our th ys w...</td>\n",
       "      <td>my  and i stayed here to celebrate our th ys w...</td>\n",
       "    </tr>\n",
       "    <tr>\n",
       "      <th>5</th>\n",
       "      <td>We had - rooms. One was very nice and clearly ...</td>\n",
       "      <td>happy</td>\n",
       "      <td>we had  rooms one was very nice and clearly ha...</td>\n",
       "      <td>we had  rooms one was very nice and clearly ha...</td>\n",
       "    </tr>\n",
       "    <tr>\n",
       "      <th>6</th>\n",
       "      <td>My husband and I have stayed in this hotel a f...</td>\n",
       "      <td>not happy</td>\n",
       "      <td>my husband and i have stayed in this hotel a f...</td>\n",
       "      <td>my husband and i have stayed in this hotel a f...</td>\n",
       "    </tr>\n",
       "    <tr>\n",
       "      <th>7</th>\n",
       "      <td>My wife &amp; I stayed in this glorious city a whi...</td>\n",
       "      <td>happy</td>\n",
       "      <td>my wife  i stayed in this glorious city a whil...</td>\n",
       "      <td>my wife  i stayed in this glorious city a whil...</td>\n",
       "    </tr>\n",
       "    <tr>\n",
       "      <th>8</th>\n",
       "      <td>My boyfriend and I stayed at the Fairmont on a...</td>\n",
       "      <td>happy</td>\n",
       "      <td>my boyfriend and i stayed at the fairmont on a...</td>\n",
       "      <td>my boyfriend and i stayed at the fairmont on a...</td>\n",
       "    </tr>\n",
       "    <tr>\n",
       "      <th>9</th>\n",
       "      <td>Wonderful staff, great location, but it was de...</td>\n",
       "      <td>not happy</td>\n",
       "      <td>rful staff great location but it was finately ...</td>\n",
       "      <td>rful staff great location but it was finately ...</td>\n",
       "    </tr>\n",
       "  </tbody>\n",
       "</table>\n",
       "</div>"
      ],
      "text/plain": [
       "                                         Description Is_Response  \\\n",
       "0  The room was kind of clean but had a VERY stro...   not happy   \n",
       "1  I stayed at the Crown Plaza April -- - April -...   not happy   \n",
       "2  I booked this hotel through Hotwire at the low...   not happy   \n",
       "3  Stayed here with husband and sons on the way t...       happy   \n",
       "4  My girlfriends and I stayed here to celebrate ...   not happy   \n",
       "5  We had - rooms. One was very nice and clearly ...       happy   \n",
       "6  My husband and I have stayed in this hotel a f...   not happy   \n",
       "7  My wife & I stayed in this glorious city a whi...       happy   \n",
       "8  My boyfriend and I stayed at the Fairmont on a...       happy   \n",
       "9  Wonderful staff, great location, but it was de...   not happy   \n",
       "\n",
       "                                 cleaned_description  \\\n",
       "0  the room was kind of clean but had a very stro...   \n",
       "1  i stayed at the crown plaza april   april   th...   \n",
       "2  i booked this hotel through hotwire at the low...   \n",
       "3  stayed here with husband and sons on the way t...   \n",
       "4  my  and i stayed here to celebrate our th ys w...   \n",
       "5  we had  rooms one was very nice and clearly ha...   \n",
       "6  my husband and i have stayed in this hotel a f...   \n",
       "7  my wife  i stayed in this glorious city a whil...   \n",
       "8  my boyfriend and i stayed at the fairmont on a...   \n",
       "9  rful staff great location but it was finately ...   \n",
       "\n",
       "                             cleaned_description_new  \n",
       "0  the room was kind of clean but had a very stro...  \n",
       "1  i stayed at the crown plaza april   april   th...  \n",
       "2  i booked this hotel through hotwire at the low...  \n",
       "3  stayed here with husband and sons on the way t...  \n",
       "4  my  and i stayed here to celebrate our th ys w...  \n",
       "5  we had  rooms one was very nice and clearly ha...  \n",
       "6  my husband and i have stayed in this hotel a f...  \n",
       "7  my wife  i stayed in this glorious city a whil...  \n",
       "8  my boyfriend and i stayed at the fairmont on a...  \n",
       "9  rful staff great location but it was finately ...  "
      ]
     },
     "execution_count": 10,
     "metadata": {},
     "output_type": "execute_result"
    }
   ],
   "source": [
    "df.head(10)"
   ]
  },
  {
   "cell_type": "markdown",
   "metadata": {},
   "source": [
    "# model training"
   ]
  },
  {
   "cell_type": "code",
   "execution_count": 11,
   "metadata": {},
   "outputs": [],
   "source": [
    "from sklearn.model_selection import train_test_split"
   ]
  },
  {
   "cell_type": "code",
   "execution_count": 12,
   "metadata": {},
   "outputs": [],
   "source": [
    "Independent_var=df.cleaned_description_new\n",
    "Dependent_var=df.Is_Response"
   ]
  },
  {
   "cell_type": "code",
   "execution_count": 13,
   "metadata": {},
   "outputs": [
    {
     "name": "stdout",
     "output_type": "stream",
     "text": [
      "IV_train:  35038\n",
      "IV_test:  3894\n",
      "DV_train:  35038\n",
      "DV_test:  3894\n"
     ]
    }
   ],
   "source": [
    "IV_train, IV_test, DV_train, DV_test=train_test_split(Independent_var,Dependent_var, test_size=0.1,random_state=225)\n",
    "print('IV_train: ', len(IV_train))\n",
    "print('IV_test: ', len(IV_test))\n",
    "print('DV_train: ', len(DV_train))\n",
    "print('DV_test: ', len(DV_test))"
   ]
  },
  {
   "cell_type": "code",
   "execution_count": 14,
   "metadata": {},
   "outputs": [],
   "source": [
    "from sklearn.feature_extraction.text import TfidfVectorizer\n",
    "from sklearn.linear_model import LogisticRegression\n"
   ]
  },
  {
   "cell_type": "code",
   "execution_count": 15,
   "metadata": {},
   "outputs": [],
   "source": [
    "tvec=TfidfVectorizer()\n",
    "clf2=LogisticRegression(solver = 'lbfgs')"
   ]
  },
  {
   "cell_type": "code",
   "execution_count": 16,
   "metadata": {},
   "outputs": [],
   "source": [
    "from sklearn.pipeline import Pipeline\n",
    "\n"
   ]
  },
  {
   "cell_type": "code",
   "execution_count": 17,
   "metadata": {},
   "outputs": [
    {
     "name": "stderr",
     "output_type": "stream",
     "text": [
      "C:\\ProgramData\\Anaconda3\\lib\\site-packages\\sklearn\\linear_model\\_logistic.py:762: ConvergenceWarning: lbfgs failed to converge (status=1):\n",
      "STOP: TOTAL NO. of ITERATIONS REACHED LIMIT.\n",
      "\n",
      "Increase the number of iterations (max_iter) or scale the data as shown in:\n",
      "    https://scikit-learn.org/stable/modules/preprocessing.html\n",
      "Please also refer to the documentation for alternative solver options:\n",
      "    https://scikit-learn.org/stable/modules/linear_model.html#logistic-regression\n",
      "  n_iter_i = _check_optimize_result(\n"
     ]
    },
    {
     "data": {
      "text/plain": [
       "Pipeline(steps=[('vectorizer', TfidfVectorizer()),\n",
       "                ('Classifier', LogisticRegression())])"
      ]
     },
     "execution_count": 17,
     "metadata": {},
     "output_type": "execute_result"
    }
   ],
   "source": [
    "model=Pipeline([('vectorizer' , tvec),('Classifier' , clf2)])\n",
    "model.fit(IV_train ,DV_train)\n"
   ]
  },
  {
   "cell_type": "markdown",
   "metadata": {},
   "source": [
    "# confusion matrix\n"
   ]
  },
  {
   "cell_type": "code",
   "execution_count": 18,
   "metadata": {},
   "outputs": [],
   "source": [
    "from sklearn.metrics import confusion_matrix"
   ]
  },
  {
   "cell_type": "code",
   "execution_count": 19,
   "metadata": {},
   "outputs": [],
   "source": [
    "prediction=model.predict(IV_test)"
   ]
  },
  {
   "cell_type": "code",
   "execution_count": 20,
   "metadata": {},
   "outputs": [
    {
     "data": {
      "text/plain": [
       "array([[2418,  306],\n",
       "       [ 153, 1017]], dtype=int64)"
      ]
     },
     "execution_count": 20,
     "metadata": {},
     "output_type": "execute_result"
    }
   ],
   "source": [
    "confusion_matrix(prediction, DV_test)"
   ]
  },
  {
   "cell_type": "markdown",
   "metadata": {},
   "source": [
    "# model prediction"
   ]
  },
  {
   "cell_type": "code",
   "execution_count": 21,
   "metadata": {},
   "outputs": [],
   "source": [
    "from sklearn.metrics import accuracy_score, precision_score, recall_score"
   ]
  },
  {
   "cell_type": "code",
   "execution_count": 22,
   "metadata": {},
   "outputs": [
    {
     "name": "stdout",
     "output_type": "stream",
     "text": [
      "Accuracy: 0.8821263482280431\n",
      "Precision: 0.8888758956340842\n",
      "Recall: 0.8821263482280431\n"
     ]
    }
   ],
   "source": [
    "print(\"Accuracy:\", accuracy_score(prediction, DV_test))\n",
    "print(\"Precision:\", precision_score(prediction, DV_test ,average='weighted'))\n",
    "print(\"Recall:\", recall_score(prediction, DV_test, average='weighted'))"
   ]
  },
  {
   "cell_type": "markdown",
   "metadata": {},
   "source": [
    "# trying on new review"
   ]
  },
  {
   "cell_type": "code",
   "execution_count": 23,
   "metadata": {},
   "outputs": [
    {
     "name": "stdout",
     "output_type": "stream",
     "text": [
      "['not happy']\n"
     ]
    }
   ],
   "source": [
    "ex=[\"not good\"]\n",
    "res=model.predict(ex)\n",
    "print(res)"
   ]
  },
  {
   "cell_type": "code",
   "execution_count": 24,
   "metadata": {},
   "outputs": [
    {
     "name": "stdout",
     "output_type": "stream",
     "text": [
      "0.8821263482280431\n"
     ]
    }
   ],
   "source": [
    "print(model.score(IV_test,DV_test))"
   ]
  },
  {
   "cell_type": "markdown",
   "metadata": {},
   "source": [
    "###  Made by Dipannita Pal"
   ]
  }
 ],
 "metadata": {
  "kernelspec": {
   "display_name": "Python 3",
   "language": "python",
   "name": "python3"
  },
  "language_info": {
   "codemirror_mode": {
    "name": "ipython",
    "version": 3
   },
   "file_extension": ".py",
   "mimetype": "text/x-python",
   "name": "python",
   "nbconvert_exporter": "python",
   "pygments_lexer": "ipython3",
   "version": "3.8.3"
  }
 },
 "nbformat": 4,
 "nbformat_minor": 4
}
